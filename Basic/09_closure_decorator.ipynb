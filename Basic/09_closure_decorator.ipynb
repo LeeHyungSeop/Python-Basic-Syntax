{
 "cells": [
  {
   "cell_type": "markdown",
   "metadata": {},
   "source": [
    "# closure \n",
    "\n",
    "* closure는 간단히 말해 함수 안에 내부 함수를 구현한고 그 내부 함수를 return하는 함수를 말한다."
   ]
  },
  {
   "cell_type": "code",
   "execution_count": 1,
   "metadata": {},
   "outputs": [],
   "source": [
    "# 비효율적인 코드.\n",
    "def mul3(n) : \n",
    "    return n * 3\n",
    "\n",
    "def mul5(n) : \n",
    "    return n * 5"
   ]
  },
  {
   "cell_type": "code",
   "execution_count": 6,
   "metadata": {},
   "outputs": [
    {
     "name": "stdout",
     "output_type": "stream",
     "text": [
      "30\n",
      "50\n"
     ]
    }
   ],
   "source": [
    "# Class를 이용해 특정 값을 미리 설정하고 사용할 수 있다.\n",
    "\n",
    "class Mul : \n",
    "    def __init__ (self, m):\n",
    "        self.m = m\n",
    "    def mul(self, n) :\n",
    "        return self.m * n\n",
    "    \n",
    "if __name__ == \"__main__\" : \n",
    "    mul3 = Mul(3).mul\n",
    "    mul5 = Mul(5).mul\n",
    "\n",
    "    print(mul3(10))\n",
    "    print(mul5(10))"
   ]
  },
  {
   "cell_type": "code",
   "execution_count": 2,
   "metadata": {},
   "outputs": [
    {
     "name": "stdout",
     "output_type": "stream",
     "text": [
      "30\n",
      "50\n"
     ]
    }
   ],
   "source": [
    "# __call__ method를 이용하여 다음과 같이 개선할 수도 있다.\n",
    "# __call__ method는 class로 만든 object에 인수를 전달하여 바로 호출할 수 있도록 하는 method이다.\n",
    "\n",
    "class Mul :\n",
    "    def __init__(self, m) : \n",
    "        self.m = m\n",
    "    def __call__(self, n) : \n",
    "        return self.m * n\n",
    "    \n",
    "if __name__ == \"__main__\" :\n",
    "    mul3 = Mul(3)\n",
    "    mul5 = Mul(5)\n",
    "    \n",
    "    print(mul3(10))\n",
    "    print(mul5(10))"
   ]
  },
  {
   "cell_type": "code",
   "execution_count": 3,
   "metadata": {},
   "outputs": [
    {
     "name": "stdout",
     "output_type": "stream",
     "text": [
      "30\n",
      "50\n"
     ]
    }
   ],
   "source": [
    "# 외부 함수 mul()은 내부 함수 wrapper()를 return.\n",
    "# mul() 함수 호출 시 인수로 받은 m을 내부 함수 wrapper()에 저장하여 return한다. (마치 Class가 특정한 값을 설정하여 object를 만드는 과정과 비슷함.)\n",
    "# 이런 mul()과 같은 함수를 closure라고 한다.\n",
    "def mul(m) :\n",
    "    def wrapper(n) : \n",
    "        return m * n\n",
    "    return wrapper\n",
    "\n",
    "if __name__ == \"__main__\" : \n",
    "    mul3 = mul(3)\n",
    "    mul5 = mul(5)\n",
    "    \n",
    "    print(mul3(10))\n",
    "    print(mul5(10))"
   ]
  },
  {
   "cell_type": "markdown",
   "metadata": {},
   "source": [
    "# decorator"
   ]
  },
  {
   "cell_type": "code",
   "execution_count": 5,
   "metadata": {},
   "outputs": [],
   "source": [
    "def myfunc() :\n",
    "    print(\"myfunc() 호출\")"
   ]
  },
  {
   "cell_type": "code",
   "execution_count": 6,
   "metadata": {},
   "outputs": [
    {
     "name": "stdout",
     "output_type": "stream",
     "text": [
      "myfunc() 호출\n",
      "myfunc() 실행 시간 : 2.4080276489257812e-05 초\n"
     ]
    }
   ],
   "source": [
    "# myfunc() 함수의 실행시간을 측정해보자.\n",
    "# (실행 시간을 측정해야 하는 함수가 myfunc 말고도 많다면, 아래의 코드는 비효율적인 코드)\n",
    "\n",
    "import time\n",
    "\n",
    "def myfunc() : \n",
    "    start = time.time()\n",
    "    print(\"myfunc() 호출\")\n",
    "    end = time.time()\n",
    "    print(f\"myfunc() 실행 시간 : {end - start} 초\")\n",
    "\n",
    "myfunc()"
   ]
  },
  {
   "cell_type": "code",
   "execution_count": 13,
   "metadata": {},
   "outputs": [
    {
     "name": "stdout",
     "output_type": "stream",
     "text": [
      "myfunc() 호출\n",
      "myfunc 실행 시간 : 2.002716064453125e-05 초\n"
     ]
    }
   ],
   "source": [
    "# closure를 이용하여 더 효율적인 방법이 될 수 있다.\n",
    "# elapsed() 함수로 closure를 만들었다.\n",
    "# closure를 이용하면 기존 함수에 기능을 덧붙이기가 매우 편리하다.\n",
    "# 이렇게 기존 함수를 바꾸지 않고 기능을 추가할 수 있게 만드는 elapsed() 함수와 같은 closure를 decorator라고 한다.\n",
    "\n",
    "import time\n",
    "\n",
    "def elapsed(original_func) : \n",
    "    def wrapper() : \n",
    "        start = time.time()\n",
    "        result = original_func()\n",
    "        end = time.time()\n",
    "        print(f\"{original_func.__name__} 실행 시간 : {end - start} 초\")\n",
    "        return result\n",
    "    return wrapper\n",
    "\n",
    "def myfunc() : \n",
    "    print(\"myfunc() 호출\")\n",
    "    \n",
    "decorated_myfunc = elapsed(myfunc)\n",
    "decorated_myfunc()\n",
    "\n"
   ]
  },
  {
   "cell_type": "code",
   "execution_count": 9,
   "metadata": {},
   "outputs": [
    {
     "name": "stdout",
     "output_type": "stream",
     "text": [
      "myfunc() 호출\n",
      "myfunc 실행 시간 : 2.6702880859375e-05 초\n"
     ]
    }
   ],
   "source": [
    "# decorator는 다음처럼 @ 문자를 이용해 함수 위에 적용하여 사용할 수 있다.\n",
    "# @ + 함수명 : decorator 함수로 인식되어, myfunc() 함수는 elapsed() decorator를 통해 수행된다.\n",
    "\n",
    "import time\n",
    "\n",
    "def elapsed(original_func) :\n",
    "    def wrapper() : \n",
    "        start = time.time()\n",
    "        result = original_func()\n",
    "        end = time.time()\n",
    "        print(f\"{original_func.__name__} 실행 시간 : {end - start} 초\")\n",
    "        return result\n",
    "    return wrapper\n",
    "\n",
    "@elapsed \n",
    "def myfunc() :\n",
    "    print(\"myfunc() 호출\")\n",
    "    \n",
    "myfunc()"
   ]
  },
  {
   "cell_type": "code",
   "execution_count": 16,
   "metadata": {},
   "outputs": [
    {
     "ename": "TypeError",
     "evalue": "elapsed.<locals>.wrapper() takes 0 positional arguments but 1 was given",
     "output_type": "error",
     "traceback": [
      "\u001b[0;31m---------------------------------------------------------------------------\u001b[0m",
      "\u001b[0;31mTypeError\u001b[0m                                 Traceback (most recent call last)",
      "Cell \u001b[0;32mIn[16], line 18\u001b[0m\n\u001b[1;32m     14\u001b[0m \u001b[38;5;129m@elapsed\u001b[39m \n\u001b[1;32m     15\u001b[0m \u001b[38;5;28;01mdef\u001b[39;00m \u001b[38;5;21mmyfunc\u001b[39m(msg) :\n\u001b[1;32m     16\u001b[0m     \u001b[38;5;28mprint\u001b[39m(\u001b[38;5;124mf\u001b[39m\u001b[38;5;124m\"\u001b[39m\u001b[38;5;132;01m{\u001b[39;00mmsg\u001b[38;5;132;01m}\u001b[39;00m\u001b[38;5;124m를 출력합니다.\u001b[39m\u001b[38;5;124m\"\u001b[39m)\n\u001b[0;32m---> 18\u001b[0m \u001b[43mmyfunc\u001b[49m\u001b[43m(\u001b[49m\u001b[38;5;124;43m\"\u001b[39;49m\u001b[38;5;124;43mYou need python\u001b[39;49m\u001b[38;5;124;43m\"\u001b[39;49m\u001b[43m)\u001b[49m\n",
      "\u001b[0;31mTypeError\u001b[0m: elapsed.<locals>.wrapper() takes 0 positional arguments but 1 was given"
     ]
    }
   ],
   "source": [
    "# myfunc() 함수에는 인수가 필요하지만, elapsed() 함수 안의 wrapper()함수는 전달받은 myfunc 함수를 입력 인수 없이 호출해 오류가 발생.\n",
    "# 그러므로 decorator 함수는 기존 함수의 입력 인수에 상관없이 동작하도록 만들어야 한다.\n",
    "import time\n",
    "\n",
    "def elapsed(original_func) :\n",
    "    def wrapper() : \n",
    "        start = time.time()\n",
    "        result = original_func()\n",
    "        end = time.time()\n",
    "        print(f\"{original_func.__name__} 실행 시간 : {end - start} 초\")\n",
    "        return result\n",
    "    return wrapper\n",
    "\n",
    "@elapsed \n",
    "def myfunc(msg) :\n",
    "    print(f\"{msg}를 출력합니다.\")\n",
    "    \n",
    "myfunc(\"You need python\")"
   ]
  },
  {
   "cell_type": "code",
   "execution_count": 18,
   "metadata": {},
   "outputs": [
    {
     "name": "stdout",
     "output_type": "stream",
     "text": [
      "(1, 2, 3)\n",
      "{'name': 'foo', 'age': 3}\n"
     ]
    }
   ],
   "source": [
    "# decorator는 기존 함수가 어떤 입력 인수를 취할지 알 수 없으므로, *args, **kwargs를 이용하여 가변 인수를 사용한다.\n",
    "# *args : 모든 입력 인수를 tuple로 변환하는 가변 인수\n",
    "# **kwargs : 모든 입력 인수를 dictionary로 변환하는 가변 인수\n",
    "\n",
    "\n",
    "def func(*args, **kwargs) :\n",
    "    print(args)\n",
    "    print(kwargs)\n",
    "    \n",
    "func(1, 2, 3, name = \"foo\", age = 3)"
   ]
  },
  {
   "cell_type": "code",
   "execution_count": 21,
   "metadata": {},
   "outputs": [
    {
     "name": "stdout",
     "output_type": "stream",
     "text": [
      "You need python를 출력합니다.\n",
      "myfunc 실행 시간 : 2.1696090698242188e-05 초\n"
     ]
    }
   ],
   "source": [
    "import time\n",
    "\n",
    "def elapsed(original_func) :\n",
    "    def wrapper(*args, **kwargs) : \n",
    "        start = time.time()\n",
    "        result = original_func(*args, **kwargs)\n",
    "        end = time.time()\n",
    "        print(f\"{original_func.__name__} 실행 시간 : {end - start} 초\")\n",
    "        return result\n",
    "    return wrapper\n",
    "\n",
    "@elapsed \n",
    "def myfunc(msg) :\n",
    "    print(f\"{msg}를 출력합니다.\")\n",
    "    \n",
    "myfunc(\"You need python\")"
   ]
  }
 ],
 "metadata": {
  "kernelspec": {
   "display_name": "base",
   "language": "python",
   "name": "python3"
  },
  "language_info": {
   "codemirror_mode": {
    "name": "ipython",
    "version": 3
   },
   "file_extension": ".py",
   "mimetype": "text/x-python",
   "name": "python",
   "nbconvert_exporter": "python",
   "pygments_lexer": "ipython3",
   "version": "3.11.5"
  }
 },
 "nbformat": 4,
 "nbformat_minor": 2
}
