{
 "cells": [
  {
   "cell_type": "markdown",
   "metadata": {},
   "source": [
    "# Function input & output"
   ]
  },
  {
   "cell_type": "markdown",
   "metadata": {},
   "source": [
    "## 함수, parameter, argument\n",
    "\n",
    "``` py\n",
    "def func(parameter):\n",
    "    print(parameter)\n",
    "\n",
    "func(\"argument\")\n",
    "```"
   ]
  },
  {
   "cell_type": "markdown",
   "metadata": {},
   "source": [
    "## *args : parameter가 몇 개인지 모를때"
   ]
  },
  {
   "cell_type": "code",
   "execution_count": 1,
   "metadata": {},
   "outputs": [
    {
     "name": "stdout",
     "output_type": "stream",
     "text": [
      "6\n",
      "55\n"
     ]
    }
   ],
   "source": [
    "def add_many(*args):\n",
    "    result = 0\n",
    "    for i in args:\n",
    "        result += i\n",
    "    return result\n",
    "\n",
    "result = add_many(1,2,3)\n",
    "print(result)\n",
    "\n",
    "result = add_many(1,2,3,4,5,6,7,8,9,10)\n",
    "print(result)"
   ]
  },
  {
   "cell_type": "code",
   "execution_count": 4,
   "metadata": {},
   "outputs": [
    {
     "name": "stdout",
     "output_type": "stream",
     "text": [
      "15\n",
      "120\n"
     ]
    }
   ],
   "source": [
    "def add_mul(choice, *args):\n",
    "    if choice == \"add\":\n",
    "        result = 0\n",
    "        for i in args:\n",
    "            result += i\n",
    "    elif choice == \"mul\":\n",
    "        result = 1\n",
    "        for i in args:\n",
    "            result *= i\n",
    "    return result\n",
    "\n",
    "result = add_mul(\"add\", 1,2,3,4,5)\n",
    "print(result)\n",
    "\n",
    "result = add_mul(\"mul\", 1,2,3,4,5)\n",
    "print(result)"
   ]
  },
  {
   "cell_type": "markdown",
   "metadata": {},
   "source": [
    "## kwargs : keyword argument\n",
    "\n",
    "* key와 value로 이루어진 dictionary 형태로 함수에 argument를 넘길 수 있다.\n",
    "* parameter 이름 앞에 **를 붙이면 매개변수 kwargs는 dictionary가 되고 모든 Key=Value 형태의 입력값이 그 dictionary에 저장된다. ({'Key' : Value})"
   ]
  },
  {
   "cell_type": "code",
   "execution_count": 9,
   "metadata": {},
   "outputs": [
    {
     "name": "stdout",
     "output_type": "stream",
     "text": [
      "{'a': 1}\n",
      "{'name': 'foo', 'age': 3}\n"
     ]
    }
   ],
   "source": [
    "def print_kwargs(**kwargs):\n",
    "    print(kwargs)\n",
    "    \n",
    "print_kwargs(a=1)\n",
    "print_kwargs(name=\"foo\", age=3)"
   ]
  },
  {
   "cell_type": "markdown",
   "metadata": {},
   "source": [
    "## parameter initialization"
   ]
  },
  {
   "cell_type": "code",
   "execution_count": 15,
   "metadata": {},
   "outputs": [
    {
     "name": "stdout",
     "output_type": "stream",
     "text": [
      "My name is 박응용.\n",
      "I am 27 years old.\n",
      "남자입니다\n"
     ]
    }
   ],
   "source": [
    "def say_myself(name, age, man=True) :\n",
    "    print(\"My name is %s.\" % name)\n",
    "    print(\"I am %d years old.\" % age)\n",
    "    if man :\n",
    "        print(\"남자입니다\")\n",
    "    else :\n",
    "        print(\"여자입니다\")\n",
    "        \n",
    "say_myself(\"박응용\", 27)"
   ]
  },
  {
   "cell_type": "markdown",
   "metadata": {},
   "source": [
    "### (주의) parameter initialization 항상 뒤쪽에"
   ]
  },
  {
   "cell_type": "code",
   "execution_count": 17,
   "metadata": {},
   "outputs": [
    {
     "ename": "SyntaxError",
     "evalue": "non-default argument follows default argument (3634342184.py, line 1)",
     "output_type": "error",
     "traceback": [
      "\u001b[0;36m  Cell \u001b[0;32mIn[17], line 1\u001b[0;36m\u001b[0m\n\u001b[0;31m    def say_myself(name, man=True, age) :\u001b[0m\n\u001b[0m                                   ^\u001b[0m\n\u001b[0;31mSyntaxError\u001b[0m\u001b[0;31m:\u001b[0m non-default argument follows default argument\n"
     ]
    }
   ],
   "source": [
    "def say_myself(name, man=True, age) :\n",
    "    print(\"My name is %s.\" % name)\n",
    "    print(\"I am %d years old.\" % age)\n",
    "    if man :\n",
    "        print(\"남자입니다\")\n",
    "    else :\n",
    "        print(\"여자입니다\")\n",
    "        \n",
    "say_myself(\"박응용\", 27) # name=\"박응용\", man=27, age=? -> SyntaxError: non-default argument follows default argument"
   ]
  },
  {
   "cell_type": "code",
   "execution_count": 18,
   "metadata": {},
   "outputs": [
    {
     "name": "stdout",
     "output_type": "stream",
     "text": [
      "My name is 박응용.\n",
      "I am 27 years old.\n",
      "남자입니다\n"
     ]
    }
   ],
   "source": [
    "def say_myself(name, age, man=True) :\n",
    "    print(\"My name is %s.\" % name)\n",
    "    print(\"I am %d years old.\" % age)\n",
    "    if man :\n",
    "        print(\"남자입니다\")\n",
    "    else :\n",
    "        print(\"여자입니다\")\n",
    "        \n",
    "say_myself(\"박응용\", 27) "
   ]
  },
  {
   "cell_type": "markdown",
   "metadata": {},
   "source": [
    "## return, global"
   ]
  },
  {
   "cell_type": "code",
   "execution_count": 20,
   "metadata": {},
   "outputs": [
    {
     "name": "stdout",
     "output_type": "stream",
     "text": [
      "1\n"
     ]
    }
   ],
   "source": [
    "a = 1\n",
    "def vartest(a):\n",
    "    a = a + 1\n",
    "    \n",
    "    \n",
    "vartest(a)\n",
    "print(a) # 1 -> 함수 안에서 증가한 a는 함수 밖의 a와는 다름 (지역변수, 전역변수)"
   ]
  },
  {
   "cell_type": "code",
   "execution_count": 22,
   "metadata": {},
   "outputs": [
    {
     "name": "stdout",
     "output_type": "stream",
     "text": [
      "2\n"
     ]
    }
   ],
   "source": [
    "# return\n",
    "\n",
    "a = 1 \n",
    "def vartest(a) :\n",
    "    a = a + 1\n",
    "    return a\n",
    "\n",
    "a = vartest(a)\n",
    "print(a)"
   ]
  },
  {
   "cell_type": "code",
   "execution_count": 24,
   "metadata": {},
   "outputs": [
    {
     "name": "stdout",
     "output_type": "stream",
     "text": [
      "2\n"
     ]
    }
   ],
   "source": [
    "# global : 외부 변수에 종속적인 함수는 그다지 좋은 함수가 아님. 되도록 return 방법을 사용하는 것이 좋음.\n",
    "\n",
    "a = 1 \n",
    "def vartest() :\n",
    "    global a\n",
    "    a = a + 1\n",
    "\n",
    "vartest()\n",
    "print(a)"
   ]
  },
  {
   "cell_type": "markdown",
   "metadata": {},
   "source": [
    "## lambda\n",
    "\n",
    "* lambda는 함수를 생성할 때 사용하는 예약어, def와 동일한 역할.\n",
    "* 보통 복잡하지 않거나 def를 사용할 수 없는 곳에 함수를 생성하기 위해, 한 줄로 간결하게 사용.\n",
    "* 사용법 :\n",
    "``` py\n",
    "함수_이름 = lambda param1, param2, ... : param_이용한_표현식\n",
    "```"
   ]
  },
  {
   "cell_type": "code",
   "execution_count": 1,
   "metadata": {},
   "outputs": [
    {
     "name": "stdout",
     "output_type": "stream",
     "text": [
      "7\n"
     ]
    }
   ],
   "source": [
    "add = lambda a, b : a + b\n",
    "result = add(3, 4)\n",
    "print(result)"
   ]
  },
  {
   "cell_type": "markdown",
   "metadata": {},
   "source": [
    "# User input & output"
   ]
  },
  {
   "cell_type": "markdown",
   "metadata": {},
   "source": [
    "## input\n",
    "\n",
    "* 사용자에게 받은 입력은 `string data type`임."
   ]
  },
  {
   "cell_type": "code",
   "execution_count": 3,
   "metadata": {},
   "outputs": [
    {
     "name": "stdout",
     "output_type": "stream",
     "text": [
      "abc\n"
     ]
    }
   ],
   "source": [
    "a = input()\n",
    "print(a)"
   ]
  },
  {
   "cell_type": "code",
   "execution_count": 5,
   "metadata": {},
   "outputs": [
    {
     "name": "stdout",
     "output_type": "stream",
     "text": [
      "123\n",
      "<class 'str'>\n"
     ]
    }
   ],
   "source": [
    "number = input(\"숫자를 입력하세요 : \")\n",
    "print(number)\n",
    "print(type(number)) # str"
   ]
  },
  {
   "cell_type": "markdown",
   "metadata": {},
   "source": [
    "## print"
   ]
  },
  {
   "cell_type": "markdown",
   "metadata": {},
   "source": [
    "### \"str1\" \"str2\" = \"str1\"+\"str2\""
   ]
  },
  {
   "cell_type": "code",
   "execution_count": 7,
   "metadata": {},
   "outputs": [
    {
     "name": "stdout",
     "output_type": "stream",
     "text": [
      "lifeistoo short\n",
      "lifeistoo short\n"
     ]
    }
   ],
   "source": [
    "print(\"life\" \"is\" \"too short\")\n",
    "print(\"life\"+\"is\"+\"too short\")"
   ]
  },
  {
   "cell_type": "markdown",
   "metadata": {},
   "source": [
    "### 문자열 띄어쓰기는 ,로 한다"
   ]
  },
  {
   "cell_type": "code",
   "execution_count": 8,
   "metadata": {},
   "outputs": [
    {
     "name": "stdout",
     "output_type": "stream",
     "text": [
      "life is too short\n"
     ]
    }
   ],
   "source": [
    "print(\"life\", \"is\", \"too short\")"
   ]
  },
  {
   "cell_type": "markdown",
   "metadata": {},
   "source": [
    "### end="
   ]
  },
  {
   "cell_type": "code",
   "execution_count": 12,
   "metadata": {},
   "outputs": [
    {
     "name": "stdout",
     "output_type": "stream",
     "text": [
      "0 1 2 3 4 5 6 7 8 9 "
     ]
    }
   ],
   "source": [
    "for i in range(10) :\n",
    "    print(i, end=\" \")"
   ]
  },
  {
   "cell_type": "code",
   "execution_count": 14,
   "metadata": {},
   "outputs": [
    {
     "name": "stdout",
     "output_type": "stream",
     "text": [
      "0 | 1 | 2 | 3 | 4 | 5 | 6 | 7 | 8 | 9 | "
     ]
    }
   ],
   "source": [
    "for i in range(10) :\n",
    "    print(i, end=\" | \")"
   ]
  },
  {
   "cell_type": "markdown",
   "metadata": {},
   "source": [
    "# File R/W"
   ]
  },
  {
   "cell_type": "code",
   "execution_count": null,
   "metadata": {},
   "outputs": [],
   "source": []
  }
 ],
 "metadata": {
  "kernelspec": {
   "display_name": "base",
   "language": "python",
   "name": "python3"
  },
  "language_info": {
   "codemirror_mode": {
    "name": "ipython",
    "version": 3
   },
   "file_extension": ".py",
   "mimetype": "text/x-python",
   "name": "python",
   "nbconvert_exporter": "python",
   "pygments_lexer": "ipython3",
   "version": "3.11.5"
  }
 },
 "nbformat": 4,
 "nbformat_minor": 2
}
