{
 "cells": [
  {
   "cell_type": "markdown",
   "metadata": {},
   "source": [
    "# dynamic programming language vs. static programming language\n",
    "\n",
    "* dynamic programming language: program 실행 중에 변수의 타입을 동적으로 바꿀 수 있는 언어\n",
    "  * ex : python\n",
    "  * 장점 : type에 자유로워 유연한 코딩이 가능하므로 쉽고 빠르게 program을 만들 수 있음\n",
    "  * 단점 : project의 규모가 커질수록 type을 잘못 사용해 발생하는 오류가 많아질 수 있음\n",
    "* static programming language: program 실행 중에 변수의 타입을 바꿀 수 없는 언어 (변수의 type을 compile time에 결정)\n",
    "  * java"
   ]
  },
  {
   "cell_type": "code",
   "execution_count": 1,
   "metadata": {},
   "outputs": [
    {
     "name": "stdout",
     "output_type": "stream",
     "text": [
      "<class 'int'>\n",
      "<class 'str'>\n"
     ]
    }
   ],
   "source": [
    "a = 1\n",
    "print(type(a))\n",
    "\n",
    "a = \"1\"\n",
    "print(type(a))\n",
    "\n",
    "'''\n",
    "a의 data type이 int -> str로 바뀜\n",
    "\n",
    "=> python은 dynamic programming language이다.\n",
    "'''"
   ]
  },
  {
   "cell_type": "markdown",
   "metadata": {},
   "source": [
    "# type annotation\n",
    "\n",
    "* dynamic programming language의 단점을 보완하기 위해 type annotation을 사용\n",
    "* static programming language처럼 적극적인 type checking이 아니라 type annotation.\n",
    "* 즉, type에 대한 hint를 알려 주는 정도의 기능만 지원."
   ]
  },
  {
   "cell_type": "code",
   "execution_count": 5,
   "metadata": {},
   "outputs": [],
   "source": [
    "num: int = 1"
   ]
  },
  {
   "cell_type": "code",
   "execution_count": 6,
   "metadata": {},
   "outputs": [],
   "source": [
    "def add(a: int, b: int) -> int : # return값의 type도 명시 가능\n",
    "    return a + b"
   ]
  },
  {
   "cell_type": "markdown",
   "metadata": {},
   "source": [
    "# mypy\n",
    "\n",
    "* python은 type annotation으로 변수의 type을 명시해주더라도, 다른 type의 변수를 할당할 수 있다."
   ]
  },
  {
   "cell_type": "code",
   "execution_count": 12,
   "metadata": {},
   "outputs": [
    {
     "name": "stdout",
     "output_type": "stream",
     "text": [
      "<class 'float'>\n"
     ]
    }
   ],
   "source": [
    "def add(a: int, b: int) -> int :\n",
    "    return a + b\n",
    "\n",
    "result = add(3, 3.5)\n",
    "print(type(result))"
   ]
  },
  {
   "cell_type": "markdown",
   "metadata": {},
   "source": [
    "* 더 적극적으로 type annotation을 활용하려면 mypy library를 사용하는게 좋다.\n",
    "* mypy는 python의 standard library가 아니므로 설치 후에 사용할 수 있다."
   ]
  },
  {
   "cell_type": "code",
   "execution_count": 9,
   "metadata": {},
   "outputs": [
    {
     "name": "stdout",
     "output_type": "stream",
     "text": [
      "Collecting mypy\n",
      "  Downloading mypy-1.11.0-cp311-cp311-manylinux_2_17_x86_64.manylinux2014_x86_64.manylinux_2_28_x86_64.whl.metadata (1.9 kB)\n",
      "Requirement already satisfied: typing-extensions>=4.6.0 in /home/hslee/.local/lib/python3.11/site-packages (from mypy) (4.12.2)\n",
      "Requirement already satisfied: mypy-extensions>=1.0.0 in /home/hslee/anaconda3/lib/python3.11/site-packages (from mypy) (1.0.0)\n",
      "Downloading mypy-1.11.0-cp311-cp311-manylinux_2_17_x86_64.manylinux2014_x86_64.manylinux_2_28_x86_64.whl (12.4 MB)\n",
      "\u001b[2K   \u001b[90m━━━━━━━━━━━━━━━━━━━━━━━━━━━━━━━━━━━━━━━━\u001b[0m \u001b[32m12.4/12.4 MB\u001b[0m \u001b[31m1.1 MB/s\u001b[0m eta \u001b[36m0:00:00\u001b[0m00:01\u001b[0m00:01\u001b[0m\n",
      "\u001b[?25hInstalling collected packages: mypy\n",
      "Successfully installed mypy-1.11.0\n"
     ]
    }
   ],
   "source": [
    "!pip install mypy"
   ]
  },
  {
   "cell_type": "code",
   "execution_count": 13,
   "metadata": {},
   "outputs": [
    {
     "name": "stdout",
     "output_type": "stream",
     "text": [
      "def add(a: int, b: int) -> int :\n",
      "    return a + b\n",
      "\n",
      "result = add(3, 3.5)\n",
      "print(type(result))"
     ]
    }
   ],
   "source": [
    "!cat type_sample_Err.py"
   ]
  },
  {
   "cell_type": "code",
   "execution_count": 15,
   "metadata": {},
   "outputs": [
    {
     "name": "stdout",
     "output_type": "stream",
     "text": [
      "type_sample_Err.py:4: \u001b[1m\u001b[31merror:\u001b[m Argument 2 to \u001b[m\u001b[1m\"add\"\u001b[m has incompatible type \u001b[m\u001b[1m\"float\"\u001b[m; expected \u001b[m\u001b[1m\"int\"\u001b[m  \u001b[m\u001b[33m[arg-type]\u001b[m\n",
      "\u001b[1m\u001b[31mFound 1 error in 1 file (checked 1 source file)\u001b[m\n"
     ]
    }
   ],
   "source": [
    "!mypy type_sample_Err.py\n",
    "\n",
    "\n",
    "# mypy로 type_sample_Err.py를 실행하면, type이 맞지 않는다는 오류가 발생한다."
   ]
  },
  {
   "cell_type": "code",
   "execution_count": 18,
   "metadata": {},
   "outputs": [
    {
     "name": "stdout",
     "output_type": "stream",
     "text": [
      "def add(a: int, b: int) -> int :\n",
      "    return a + b\n",
      "\n",
      "result = add(3, 4)\n",
      "print(type(result))"
     ]
    }
   ],
   "source": [
    "# 오류가 발생했던 3.5를 int형에 맞게 4로 변경\n",
    "!cat type_sample_noErr.py"
   ]
  },
  {
   "cell_type": "code",
   "execution_count": 19,
   "metadata": {},
   "outputs": [
    {
     "name": "stdout",
     "output_type": "stream",
     "text": [
      "\u001b[1m\u001b[32mSuccess: no issues found in 1 source file\u001b[m\n"
     ]
    }
   ],
   "source": [
    "!mypy type_sample_noErr.py"
   ]
  },
  {
   "cell_type": "code",
   "execution_count": null,
   "metadata": {},
   "outputs": [],
   "source": []
  }
 ],
 "metadata": {
  "kernelspec": {
   "display_name": "base",
   "language": "python",
   "name": "python3"
  },
  "language_info": {
   "codemirror_mode": {
    "name": "ipython",
    "version": 3
   },
   "file_extension": ".py",
   "mimetype": "text/x-python",
   "name": "python",
   "nbconvert_exporter": "python",
   "pygments_lexer": "ipython3",
   "version": "3.11.5"
  }
 },
 "nbformat": 4,
 "nbformat_minor": 2
}
