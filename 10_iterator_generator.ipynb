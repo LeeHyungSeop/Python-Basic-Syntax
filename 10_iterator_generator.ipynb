{
 "cells": [
  {
   "cell_type": "markdown",
   "metadata": {},
   "source": [
    "# Iterator\n",
    "\n",
    "* iterator는 next 함수 호출 시 계속 그다음 값을 return하는 object이다."
   ]
  },
  {
   "cell_type": "markdown",
   "metadata": {},
   "source": [
    "## iter()로 iterator 만들기"
   ]
  },
  {
   "cell_type": "code",
   "execution_count": 1,
   "metadata": {},
   "outputs": [
    {
     "ename": "TypeError",
     "evalue": "'list' object is not an iterator",
     "output_type": "error",
     "traceback": [
      "\u001b[0;31m---------------------------------------------------------------------------\u001b[0m",
      "\u001b[0;31mTypeError\u001b[0m                                 Traceback (most recent call last)",
      "Cell \u001b[0;32mIn[1], line 2\u001b[0m\n\u001b[1;32m      1\u001b[0m a \u001b[38;5;241m=\u001b[39m [\u001b[38;5;241m1\u001b[39m, \u001b[38;5;241m2\u001b[39m, \u001b[38;5;241m3\u001b[39m]\n\u001b[0;32m----> 2\u001b[0m \u001b[38;5;28;43mnext\u001b[39;49m\u001b[43m(\u001b[49m\u001b[43ma\u001b[49m\u001b[43m)\u001b[49m\n",
      "\u001b[0;31mTypeError\u001b[0m: 'list' object is not an iterator"
     ]
    }
   ],
   "source": [
    "a = [1, 2, 3]\n",
    "next(a)\n",
    "\n",
    "# Error : TypeError: 'list' object is not an iterator\n",
    "# list는 iterable이지만 iterator는 아니다. 따라서 next() 함수를 사용할 수 없다."
   ]
  },
  {
   "cell_type": "code",
   "execution_count": 5,
   "metadata": {},
   "outputs": [
    {
     "name": "stdout",
     "output_type": "stream",
     "text": [
      "<class 'list_iterator'>\n",
      "1\n",
      "2\n",
      "3\n"
     ]
    },
    {
     "ename": "StopIteration",
     "evalue": "",
     "output_type": "error",
     "traceback": [
      "\u001b[0;31m---------------------------------------------------------------------------\u001b[0m",
      "\u001b[0;31mStopIteration\u001b[0m                             Traceback (most recent call last)",
      "Cell \u001b[0;32mIn[5], line 9\u001b[0m\n\u001b[1;32m      7\u001b[0m \u001b[38;5;28mprint\u001b[39m(\u001b[38;5;28mnext\u001b[39m(ia))\n\u001b[1;32m      8\u001b[0m \u001b[38;5;28mprint\u001b[39m(\u001b[38;5;28mnext\u001b[39m(ia))\n\u001b[0;32m----> 9\u001b[0m \u001b[38;5;28mprint\u001b[39m(\u001b[38;5;28;43mnext\u001b[39;49m\u001b[43m(\u001b[49m\u001b[43mia\u001b[49m\u001b[43m)\u001b[49m)\n",
      "\u001b[0;31mStopIteration\u001b[0m: "
     ]
    }
   ],
   "source": [
    "# list를 iterator로 변환하려면 iter() 함수를 사용해야 한다.\n",
    "a = [1, 2, 3]\n",
    "ia = iter(a)\n",
    "print(type(ia))\n",
    "\n",
    "print(next(ia)) # 1\n",
    "print(next(ia)) # 2\n",
    "print(next(ia)) # 3\n",
    "print(next(ia)) # StopIteration"
   ]
  },
  {
   "cell_type": "code",
   "execution_count": 6,
   "metadata": {},
   "outputs": [
    {
     "name": "stdout",
     "output_type": "stream",
     "text": [
      "1\n",
      "2\n",
      "3\n"
     ]
    }
   ],
   "source": [
    "# next()에서 더는 return할 값이 없다면 StopIteration 예외가 발생한다.\n",
    "# 따라서 iterator의 값을 가져오는 가장 일반적인 방법은 다음과 같이 for문을 사용하는 것이다.\n",
    "a = [1, 2, 3]\n",
    "ia = iter(a)\n",
    "for i in ia : # for문은 알아서 StopIteration 예외를 처리한다.\n",
    "    print(i)"
   ]
  },
  {
   "cell_type": "code",
   "execution_count": 8,
   "metadata": {},
   "outputs": [
    {
     "name": "stdout",
     "output_type": "stream",
     "text": [
      "1\n",
      "2\n",
      "3\n"
     ]
    }
   ],
   "source": [
    "a = [1, 2, 3]\n",
    "ia = iter(a)\n",
    "for i in ia :\n",
    "    print(i)\n",
    "    \n",
    "    \n",
    "for i in ia : # iterator는 for문을 이용하여 반복하고 난 후에는 다시 반복하더라도 그 값을 가져오지 못한다.\n",
    "    print(i)"
   ]
  },
  {
   "cell_type": "markdown",
   "metadata": {},
   "source": [
    "## class로 iterator 만들기"
   ]
  },
  {
   "cell_type": "code",
   "execution_count": 9,
   "metadata": {},
   "outputs": [
    {
     "name": "stdout",
     "output_type": "stream",
     "text": [
      "1\n",
      "2\n",
      "3\n"
     ]
    }
   ],
   "source": [
    "class MyIterator:\n",
    "    def __init__(self, data):\n",
    "        self.data = data\n",
    "        self.position = 0\n",
    "        \n",
    "    def __iter__(self): # __iter__ method는 반복 가능한 object를 return한다.\n",
    "        return self\n",
    "\n",
    "    def __next__(self): # __next__ method는 반복 가능한 object의 값을 차례대로 반환하는 역할을 한다.\n",
    "        if self.position >= len(self.data):\n",
    "            raise StopIteration\n",
    "        result = self.data[self.position]\n",
    "        self.position += 1\n",
    "        return result\n",
    "    \n",
    "if __name__ == \"__main__\":\n",
    "    i = MyIterator([1, 2, 3])\n",
    "    for item in i:\n",
    "        print(item)"
   ]
  },
  {
   "cell_type": "code",
   "execution_count": 14,
   "metadata": {},
   "outputs": [
    {
     "name": "stdout",
     "output_type": "stream",
     "text": [
      "3\n",
      "2\n",
      "1\n"
     ]
    }
   ],
   "source": [
    "class ReverseIterator:\n",
    "    def __init__(self, data):\n",
    "        self.data = data\n",
    "        self.position = len(self.data) - 1\n",
    "        \n",
    "    def __iter__(self): # __iter__ method는 반복 가능한 object를 return한다.\n",
    "        return self\n",
    "\n",
    "    def __next__(self): # __next__ method는 반복 가능한 object의 값을 차례대로 반환하는 역할을 한다.\n",
    "        if self.position < 0:\n",
    "            raise StopIteration\n",
    "        result = self.data[self.position]\n",
    "        self.position -= 1\n",
    "        return result\n",
    "    \n",
    "if __name__ == \"__main__\":\n",
    "    i = ReverseIterator([1, 2, 3])\n",
    "    for item in i:\n",
    "        print(item)"
   ]
  },
  {
   "cell_type": "markdown",
   "metadata": {},
   "source": [
    "# Generator\n",
    "\n",
    "* generator는 iterator를 생성하는 함수이다.\n",
    "* generator로 생성한 object는 iterator와 마찬가지로 next() 함수 호출 시 그 값을 차례대로 얻을 수 있다.\n",
    "* 이때 **generator에서는 차례대로 결과를 반환하고자 return 대신 yield 키워드를 사용**한다."
   ]
  },
  {
   "cell_type": "code",
   "execution_count": 17,
   "metadata": {},
   "outputs": [
    {
     "name": "stdout",
     "output_type": "stream",
     "text": [
      "<class 'generator'>\n"
     ]
    }
   ],
   "source": [
    "def mygen() : # generator\n",
    "    yield 1\n",
    "    yield 2\n",
    "    yield 3\n",
    "    \n",
    "    \n",
    "g = mygen()\n",
    "print(type(g))"
   ]
  },
  {
   "cell_type": "code",
   "execution_count": 18,
   "metadata": {},
   "outputs": [
    {
     "name": "stdout",
     "output_type": "stream",
     "text": [
      "1\n",
      "2\n",
      "3\n"
     ]
    },
    {
     "ename": "StopIteration",
     "evalue": "",
     "output_type": "error",
     "traceback": [
      "\u001b[0;31m---------------------------------------------------------------------------\u001b[0m",
      "\u001b[0;31mStopIteration\u001b[0m                             Traceback (most recent call last)",
      "Cell \u001b[0;32mIn[18], line 4\u001b[0m\n\u001b[1;32m      2\u001b[0m \u001b[38;5;28mprint\u001b[39m(\u001b[38;5;28mnext\u001b[39m(g))\n\u001b[1;32m      3\u001b[0m \u001b[38;5;28mprint\u001b[39m(\u001b[38;5;28mnext\u001b[39m(g))\n\u001b[0;32m----> 4\u001b[0m \u001b[38;5;28mprint\u001b[39m(\u001b[38;5;28;43mnext\u001b[39;49m\u001b[43m(\u001b[49m\u001b[43mg\u001b[49m\u001b[43m)\u001b[49m)\n",
      "\u001b[0;31mStopIteration\u001b[0m: "
     ]
    }
   ],
   "source": [
    "print(next(g)) # 1\n",
    "print(next(g)) # 2\n",
    "print(next(g)) # 3\n",
    "print(next(g)) # StopIteration"
   ]
  },
  {
   "cell_type": "markdown",
   "metadata": {},
   "source": [
    "## generator expression"
   ]
  },
  {
   "cell_type": "code",
   "execution_count": 19,
   "metadata": {},
   "outputs": [
    {
     "name": "stdout",
     "output_type": "stream",
     "text": [
      "1\n",
      "4\n",
      "9\n"
     ]
    }
   ],
   "source": [
    "def mygen() :\n",
    "    for i in range(1, 1000) :\n",
    "        result = i * i\n",
    "        yield result\n",
    "        \n",
    "gen = mygen()\n",
    "\n",
    "print(next(gen)) # 1\n",
    "print(next(gen)) # 4\n",
    "print(next(gen)) # 9"
   ]
  },
  {
   "cell_type": "code",
   "execution_count": 20,
   "metadata": {},
   "outputs": [],
   "source": [
    "# tuple 표현식으로 간단하게 만들 수도 있다.\n",
    "gen = (i * i for i in range(1, 1000))"
   ]
  },
  {
   "cell_type": "markdown",
   "metadata": {},
   "source": [
    "# Iterator & Generator\n",
    "\n",
    "* class를 이용해 iterator를 작성하면 좀 더 복잡한 행동을 구현할 수 있다.\n",
    "* 이와 달리 generator를 이용하면 간단하게 iterator를 만들 수 있다.\n",
    "* 따라서 iterator의 성격에 따라 class로 만들 것인지, generator로 만들 것인지 선택하면 된다."
   ]
  },
  {
   "cell_type": "code",
   "execution_count": 21,
   "metadata": {},
   "outputs": [],
   "source": [
    "# (i * i for i in range(1, 1000)) generator expression을 class로 구현한 예시이다.\n",
    "\n",
    "class MyIterator :\n",
    "    def __init__(self) :\n",
    "        self.data = 1\n",
    "        \n",
    "    def __iter__(self) :\n",
    "        return self\n",
    "    \n",
    "    def __next__(self) :\n",
    "        result = self.data * self.data\n",
    "        self.data += 1\n",
    "        if self.data >= 1000 :\n",
    "            raise StopIteration\n",
    "        return result"
   ]
  },
  {
   "cell_type": "markdown",
   "metadata": {},
   "source": [
    "# Generator 활용\n",
    "\n",
    "* generator는 어떤 경우에 사용하면 좋을까?"
   ]
  },
  {
   "cell_type": "code",
   "execution_count": 25,
   "metadata": {},
   "outputs": [
    {
     "name": "stdout",
     "output_type": "stream",
     "text": [
      "job start\n",
      "job start\n",
      "job start\n",
      "job start\n",
      "job start\n",
      "done\n"
     ]
    }
   ],
   "source": [
    "import time\n",
    "\n",
    "def longtime_job() :\n",
    "    print(\"job start\")\n",
    "    time.sleep(1)\n",
    "    return \"done\"\n",
    "    \n",
    "list_job = [longtime_job() for i in range(5)] # list comprehension을 사용하면 함수를 실행하고 결과를 리스트에 저장한다.\n",
    "print(list_job[0])"
   ]
  },
  {
   "cell_type": "code",
   "execution_count": 27,
   "metadata": {},
   "outputs": [
    {
     "name": "stdout",
     "output_type": "stream",
     "text": [
      "job start\n",
      "done\n"
     ]
    }
   ],
   "source": [
    "import time \n",
    "\n",
    "def longtime_job() :\n",
    "    print(\"job start\")\n",
    "    time.sleep(1)\n",
    "    return \"done\"\n",
    "\n",
    "list_job = (longtime_job() for i in range(5))  \n",
    "# generator expression으로 인해, long_time_job() 함수가 5회가 아닌 1회만 호출된다. (= lazy evaluation)\n",
    "# 시간이 오래 걸리는 작업을 한번에 처리하기보다는 필요한 경우에만 호출하여 사용할 때 generator는 매우 유용하다.\n",
    "print(next(list_job))"
   ]
  },
  {
   "cell_type": "code",
   "execution_count": null,
   "metadata": {},
   "outputs": [],
   "source": []
  }
 ],
 "metadata": {
  "kernelspec": {
   "display_name": "Python 3",
   "language": "python",
   "name": "python3"
  },
  "language_info": {
   "codemirror_mode": {
    "name": "ipython",
    "version": 3
   },
   "file_extension": ".py",
   "mimetype": "text/x-python",
   "name": "python",
   "nbconvert_exporter": "python",
   "pygments_lexer": "ipython3",
   "version": "3.9.16"
  }
 },
 "nbformat": 4,
 "nbformat_minor": 2
}
