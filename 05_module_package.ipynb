{
 "cells": [
  {
   "cell_type": "markdown",
   "metadata": {},
   "source": [
    "# module\n",
    "\n",
    "* module : 함수나 변수 또는 클래스들을 모아놓은 python file\n"
   ]
  },
  {
   "cell_type": "code",
   "execution_count": 3,
   "metadata": {},
   "outputs": [
    {
     "name": "stdout",
     "output_type": "stream",
     "text": [
      "3\n",
      "-1\n"
     ]
    }
   ],
   "source": [
    "import mod1\n",
    "\n",
    "print(mod1.add(1, 2))\n",
    "print(mod1.sub(1, 2))"
   ]
  },
  {
   "cell_type": "code",
   "execution_count": 8,
   "metadata": {},
   "outputs": [
    {
     "name": "stdout",
     "output_type": "stream",
     "text": [
      "3\n"
     ]
    }
   ],
   "source": [
    "from mod1 import add\n",
    "\n",
    "print(mod1.add(1, 2))"
   ]
  },
  {
   "cell_type": "code",
   "execution_count": 9,
   "metadata": {},
   "outputs": [
    {
     "name": "stdout",
     "output_type": "stream",
     "text": [
      "3\n",
      "-1\n"
     ]
    }
   ],
   "source": [
    "from mod1 import *\n",
    "\n",
    "print(mod1.add(1, 2))\n",
    "print(mod1.sub(1, 2))"
   ]
  },
  {
   "attachments": {
    "image.png": {
     "image/png": "[encoded data removed]"
    }
   },
   "cell_type": "markdown",
   "metadata": {},
   "source": [
    "# if \\_\\_name__ == \"\\_\\_main__\"\n",
    "\n",
    "* \\_\\_name 변수란?\n",
    "  * python의 내장 변수로, 파이썬이 내부적으로 사용하는 특별한 변수 이름\n",
    "  * mod1.py를 직접 실행할 경우, mod1.py의 \\_\\_name__ 변수에는 \\_\\_main__ 값이 저장됨\n",
    "  * 하지만 python shell이나 다른 python module에서 mod1.py를 import 할 경우, mod1.py의 \\_\\_name__ 변수에는 mod1.py의 모듈 이름인 mod1이 저장됨\n",
    "    * ![image.png](attachment:image.png)"
   ]
  },
  {
   "cell_type": "code",
   "execution_count": 12,
   "metadata": {},
   "outputs": [
    {
     "name": "stdout",
     "output_type": "stream",
     "text": [
      "30\n",
      "-10\n"
     ]
    }
   ],
   "source": [
    "!python3 mod1.py # 직접 이 파일을 실행하면, __name__ == \"__main__\"이 참이 되어 if문 다음 문장이 수행된다."
   ]
  },
  {
   "cell_type": "code",
   "execution_count": 13,
   "metadata": {},
   "outputs": [],
   "source": [
    "import mod1 # 대화형 인터프리터나 다른 파일에서 이 module을 불러 사용할 때는 __name__ == \"__main__\"이 거짓이 되어 if문 다음 문장이 수행되지 않는다."
   ]
  },
  {
   "cell_type": "markdown",
   "metadata": {},
   "source": [
    "# class나 변수 등을 포함한 module"
   ]
  },
  {
   "cell_type": "code",
   "execution_count": 1,
   "metadata": {},
   "outputs": [
    {
     "name": "stdout",
     "output_type": "stream",
     "text": [
      "PI = 3.14\n",
      "\n",
      "class Math :\n",
      "    def solv(self, r) :\n",
      "        return PI * (r ** 2)\n",
      "    \n",
      "def add(a, b) :\n",
      "    return a + b"
     ]
    }
   ],
   "source": [
    "!cat mod2.py"
   ]
  },
  {
   "cell_type": "code",
   "execution_count": 16,
   "metadata": {},
   "outputs": [
    {
     "name": "stdout",
     "output_type": "stream",
     "text": [
      "3.14\n",
      "12.56\n",
      "7.540000000000001\n"
     ]
    }
   ],
   "source": [
    "import mod2\n",
    "\n",
    "print(mod2.PI) # 변수\n",
    "\n",
    "a = mod2.Math() # class\n",
    "print(a.solv(2)) # method\n",
    "\n",
    "print(mod2.add(mod2.PI, 4.4)) # function"
   ]
  },
  {
   "cell_type": "markdown",
   "metadata": {},
   "source": [
    "# 다른 directory에 있는 module import   "
   ]
  },
  {
   "cell_type": "markdown",
   "metadata": {},
   "source": [
    "## sys.path.append(\"directory path\")"
   ]
  },
  {
   "cell_type": "code",
   "execution_count": 3,
   "metadata": {},
   "outputs": [
    {
     "name": "stdout",
     "output_type": "stream",
     "text": [
      "['/home/hslee/Desktop/Python-Basic-Syntax', '/home/hslee/anaconda3/lib/python311.zip', '/home/hslee/anaconda3/lib/python3.11', '/home/hslee/anaconda3/lib/python3.11/lib-dynload', '', '/home/hslee/.local/lib/python3.11/site-packages', '/home/hslee/anaconda3/lib/python3.11/site-packages']\n"
     ]
    }
   ],
   "source": [
    "import sys\n",
    "print(sys.path)"
   ]
  },
  {
   "cell_type": "code",
   "execution_count": 1,
   "metadata": {},
   "outputs": [
    {
     "name": "stdout",
     "output_type": "stream",
     "text": [
      "7\n"
     ]
    }
   ],
   "source": [
    "import sys\n",
    "sys.path.append(\"/home/hslee/Desktop/Python-Basic-Syntax/05_mymod\")\n",
    "\n",
    "import mod3\n",
    "print(mod3.add(3, 4))"
   ]
  },
  {
   "cell_type": "markdown",
   "metadata": {},
   "source": [
    "## PYTHONPATH 환경 변수 사용\n",
    "\n",
    "* windows : set PYTHONPATH=directory path\n",
    "* mac, linux : export PYTHONPATH=directory path"
   ]
  },
  {
   "cell_type": "code",
   "execution_count": 2,
   "metadata": {},
   "outputs": [],
   "source": [
    "# !set PYTHONPATH=/home/hslee/Desktop/Python-Basic-Syntax/05_mymod # window\n",
    "!export PYTHONPATH=/home/hslee/Desktop/Python-Basic-Syntax/05_mymod # linux"
   ]
  },
  {
   "cell_type": "code",
   "execution_count": 3,
   "metadata": {},
   "outputs": [
    {
     "ename": "ModuleNotFoundError",
     "evalue": "No module named 'mod3'",
     "output_type": "error",
     "traceback": [
      "\u001b[0;31m---------------------------------------------------------------------------\u001b[0m",
      "\u001b[0;31mModuleNotFoundError\u001b[0m                       Traceback (most recent call last)",
      "Cell \u001b[0;32mIn[3], line 1\u001b[0m\n\u001b[0;32m----> 1\u001b[0m \u001b[38;5;28;01mimport\u001b[39;00m \u001b[38;5;21;01mmod3\u001b[39;00m\n\u001b[1;32m      2\u001b[0m \u001b[38;5;28mprint\u001b[39m(mod3\u001b[38;5;241m.\u001b[39madd(\u001b[38;5;241m3\u001b[39m, \u001b[38;5;241m4\u001b[39m))\n",
      "\u001b[0;31mModuleNotFoundError\u001b[0m: No module named 'mod3'"
     ]
    }
   ],
   "source": [
    "import mod3\n",
    "print(mod3.add(3, 4))"
   ]
  },
  {
   "cell_type": "code",
   "execution_count": null,
   "metadata": {},
   "outputs": [],
   "source": []
  },
  {
   "cell_type": "code",
   "execution_count": null,
   "metadata": {},
   "outputs": [],
   "source": [
    "\n"
   ]
  }
 ],
 "metadata": {
  "kernelspec": {
   "display_name": "base",
   "language": "python",
   "name": "python3"
  },
  "language_info": {
   "codemirror_mode": {
    "name": "ipython",
    "version": 3
   },
   "file_extension": ".py",
   "mimetype": "text/x-python",
   "name": "python",
   "nbconvert_exporter": "python",
   "pygments_lexer": "ipython3",
   "version": "3.11.5"
  }
 },
 "nbformat": 4,
 "nbformat_minor": 2
}
