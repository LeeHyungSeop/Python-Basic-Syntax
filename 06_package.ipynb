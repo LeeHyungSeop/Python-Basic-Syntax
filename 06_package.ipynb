{
 "cells": [
  {
   "cell_type": "markdown",
   "metadata": {},
   "source": [
    "# Packages\n",
    "\n",
    "* package : 관련된 module의 집합\n",
    "* python module을 계층적으로(directory 구조) 관리할 수 있게 해줌"
   ]
  },
  {
   "cell_type": "markdown",
   "metadata": {},
   "source": [
    "## Package 생성"
   ]
  },
  {
   "cell_type": "code",
   "execution_count": 5,
   "metadata": {},
   "outputs": [
    {
     "name": "stdout",
     "output_type": "stream",
     "text": [
      "\u001b[01;34mpackage\u001b[00m\n",
      "├── \u001b[01;34mgraphic\u001b[00m\n",
      "│   ├── __init__.py\n",
      "│   ├── \u001b[01;34m__pycache__\u001b[00m\n",
      "│   │   ├── __init__.cpython-311.pyc\n",
      "│   │   └── render.cpython-311.pyc\n",
      "│   └── render.py\n",
      "├── __init__.py\n",
      "├── \u001b[01;34m__pycache__\u001b[00m\n",
      "│   └── __init__.cpython-311.pyc\n",
      "└── \u001b[01;34msound\u001b[00m\n",
      "    ├── echo.py\n",
      "    ├── __init__.py\n",
      "    └── \u001b[01;34m__pycache__\u001b[00m\n",
      "        ├── echo.cpython-311.pyc\n",
      "        └── __init__.cpython-311.pyc\n",
      "\n",
      "5 directories, 10 files\n"
     ]
    }
   ],
   "source": [
    "!tree package"
   ]
  },
  {
   "cell_type": "markdown",
   "metadata": {},
   "source": [
    "# package 안의 함수 실행하기"
   ]
  },
  {
   "cell_type": "markdown",
   "metadata": {},
   "source": [
    "### 1. echo module을 import하여 실행"
   ]
  },
  {
   "cell_type": "code",
   "execution_count": 6,
   "metadata": {},
   "outputs": [
    {
     "name": "stdout",
     "output_type": "stream",
     "text": [
      "echo\n"
     ]
    }
   ],
   "source": [
    "import package.sound.echo\n",
    "\n",
    "package.sound.echo.echo_test()"
   ]
  },
  {
   "cell_type": "markdown",
   "metadata": {},
   "source": [
    "### 2. echo module이 있는 directory까지를 from .. import"
   ]
  },
  {
   "cell_type": "code",
   "execution_count": 7,
   "metadata": {},
   "outputs": [
    {
     "name": "stdout",
     "output_type": "stream",
     "text": [
      "echo\n"
     ]
    }
   ],
   "source": [
    "from package.sound import echo\n",
    "\n",
    "echo.echo_test()"
   ]
  },
  {
   "cell_type": "markdown",
   "metadata": {},
   "source": [
    "### 3. echo module의 함수를 직접 import"
   ]
  },
  {
   "cell_type": "code",
   "execution_count": 8,
   "metadata": {},
   "outputs": [
    {
     "name": "stdout",
     "output_type": "stream",
     "text": [
      "echo\n"
     ]
    }
   ],
   "source": [
    "from package.sound.echo import echo_test\n",
    "\n",
    "echo_test()"
   ]
  },
  {
   "cell_type": "markdown",
   "metadata": {},
   "source": [
    "### 주의사항"
   ]
  },
  {
   "cell_type": "code",
   "execution_count": 9,
   "metadata": {},
   "outputs": [
    {
     "name": "stdout",
     "output_type": "stream",
     "text": [
      "from .graphic.render import render_test # package 내 module을 미리 import\n",
      "\n",
      "VERSION = 3.5\n",
      "\n",
      "def print_version_info() :\n",
      "    print('Version:', VERSION)\n",
      "    \n",
      "# package 초기화 코드\n",
      "print(\"Initialize package...\")    echo\n"
     ]
    }
   ],
   "source": [
    "import package\n",
    "!cat package/__init__.py # 현재 아무것도 정의된 것이 없다.\n",
    "\n",
    "package.sound.echo.echo_test() # Error : import package를 수행하면, package/__init__.py 파일에 정의된 것만 참조할 수 있다."
   ]
  },
  {
   "cell_type": "code",
   "execution_count": 10,
   "metadata": {},
   "outputs": [
    {
     "ename": "ModuleNotFoundError",
     "evalue": "No module named 'package.sound.echo.echo_test'; 'package.sound.echo' is not a package",
     "output_type": "error",
     "traceback": [
      "\u001b[0;31m---------------------------------------------------------------------------\u001b[0m",
      "\u001b[0;31mModuleNotFoundError\u001b[0m                       Traceback (most recent call last)",
      "Cell \u001b[0;32mIn[10], line 1\u001b[0m\n\u001b[0;32m----> 1\u001b[0m \u001b[38;5;28;01mimport\u001b[39;00m \u001b[38;5;21;01mpackage\u001b[39;00m\u001b[38;5;21;01m.\u001b[39;00m\u001b[38;5;21;01msound\u001b[39;00m\u001b[38;5;21;01m.\u001b[39;00m\u001b[38;5;21;01mecho\u001b[39;00m\u001b[38;5;21;01m.\u001b[39;00m\u001b[38;5;21;01mecho_test\u001b[39;00m \u001b[38;5;66;03m# Error : dot(.)를 사용해서 import a.b.c.처럼 import할 때, 가장 마지막 항목인 c는 반드시 module 또는 package여야 한다.\u001b[39;00m\n",
      "\u001b[0;31mModuleNotFoundError\u001b[0m: No module named 'package.sound.echo.echo_test'; 'package.sound.echo' is not a package"
     ]
    }
   ],
   "source": [
    "import package.sound.echo.echo_test # Error : dot(.)를 사용해서 import a.b.c.처럼 import할 때, 가장 마지막 항목인 c는 반드시 module 또는 package여야 한다."
   ]
  },
  {
   "cell_type": "markdown",
   "metadata": {},
   "source": [
    "# \\_\\_init__.py의 용도\n",
    "\n",
    "* \\_\\_init__.py file은 해당 directory가 package의 일부임을 알려주는 역할\n",
    "* 만약 package/, sound/, graphic/ 등 package에 포함된 directory에 \\_\\_init__.py file이 없다면 python은 이 directory를 package로 인식하지 않음\n",
    "* python 3.3 versionqnxjsms \\_\\_init__.py file이 없어도 package로 인식하지만, 하위 version 호환을 위해 \\_\\_init__.py file을 생성하는 것이 안전한 방법임\n",
    "* 또한, \\_\\_init__.py file은 package와 관련된 설정이나 초기화 코드를 포함할 수 있다.\n"
   ]
  },
  {
   "cell_type": "markdown",
   "metadata": {},
   "source": [
    "### package 변수 및 함수 정의"
   ]
  },
  {
   "cell_type": "code",
   "execution_count": null,
   "metadata": {},
   "outputs": [
    {
     "name": "stdout",
     "output_type": "stream",
     "text": [
      "VERSION = 3.5\n",
      "\n",
      "def print_version_info() :\n",
      "    print('Version:', VERSION)"
     ]
    }
   ],
   "source": [
    "!cat package/__init__.py"
   ]
  },
  {
   "cell_type": "code",
   "execution_count": null,
   "metadata": {},
   "outputs": [
    {
     "name": "stdout",
     "output_type": "stream",
     "text": [
      "3.5\n",
      "Version: 3.5\n"
     ]
    }
   ],
   "source": [
    "import package\n",
    "\n",
    "print(package.VERSION)\n",
    "package.print_version_info()"
   ]
  },
  {
   "cell_type": "markdown",
   "metadata": {},
   "source": [
    "### package 내 module을 미리 import"
   ]
  },
  {
   "cell_type": "code",
   "execution_count": null,
   "metadata": {},
   "outputs": [
    {
     "name": "stdout",
     "output_type": "stream",
     "text": [
      "from .graphic.render import render_test # package 내 module을 미리 import\n",
      "\n",
      "VERSION = 3.5\n",
      "\n",
      "def print_version_info() :\n",
      "    print('Version:', VERSION)"
     ]
    }
   ],
   "source": [
    "!cat package/__init__.py"
   ]
  },
  {
   "cell_type": "code",
   "execution_count": null,
   "metadata": {},
   "outputs": [
    {
     "name": "stdout",
     "output_type": "stream",
     "text": [
      "render\n"
     ]
    }
   ],
   "source": [
    "import package\n",
    "\n",
    "package.render_test()"
   ]
  },
  {
   "cell_type": "markdown",
   "metadata": {},
   "source": [
    "### package 초기화"
   ]
  },
  {
   "cell_type": "code",
   "execution_count": null,
   "metadata": {},
   "outputs": [
    {
     "name": "stdout",
     "output_type": "stream",
     "text": [
      "from .graphic.render import render_test # package 내 module을 미리 import\n",
      "\n",
      "VERSION = 3.5\n",
      "\n",
      "def print_version_info() :\n",
      "    print('Version:', VERSION)\n",
      "    \n",
      "# package 초기화 코드\n",
      "print(\"Initialize package...\")    "
     ]
    }
   ],
   "source": [
    "!cat package/__init__.py"
   ]
  },
  {
   "cell_type": "code",
   "execution_count": null,
   "metadata": {},
   "outputs": [
    {
     "name": "stdout",
     "output_type": "stream",
     "text": [
      "Initialize package...\n"
     ]
    }
   ],
   "source": [
    "import package"
   ]
  },
  {
   "cell_type": "code",
   "execution_count": null,
   "metadata": {},
   "outputs": [],
   "source": [
    "# 초기화 코드는 한 번 실행된 후에는 다시 import를 수행하더라도 실행되지 않는다.\n",
    "# 그래서 kernel 재시작 후 실행해야 함\n",
    "\n",
    "# package 초기화 코드는 game package의 하위 module의 함수를 import할 경우에도 실행됨\n",
    "from package.graphic.render import render_test"
   ]
  },
  {
   "cell_type": "markdown",
   "metadata": {},
   "source": [
    "# \\_\\_all__"
   ]
  },
  {
   "cell_type": "code",
   "execution_count": 14,
   "metadata": {},
   "outputs": [],
   "source": [
    "!cat package/sound/__init__.py"
   ]
  },
  {
   "cell_type": "code",
   "execution_count": 1,
   "metadata": {},
   "outputs": [
    {
     "name": "stdout",
     "output_type": "stream",
     "text": [
      "Initialize package...\n"
     ]
    },
    {
     "ename": "NameError",
     "evalue": "name 'echo' is not defined",
     "output_type": "error",
     "traceback": [
      "\u001b[0;31m---------------------------------------------------------------------------\u001b[0m",
      "\u001b[0;31mNameError\u001b[0m                                 Traceback (most recent call last)",
      "Cell \u001b[0;32mIn[1], line 2\u001b[0m\n\u001b[1;32m      1\u001b[0m \u001b[38;5;28;01mfrom\u001b[39;00m \u001b[38;5;21;01mpackage\u001b[39;00m\u001b[38;5;21;01m.\u001b[39;00m\u001b[38;5;21;01msound\u001b[39;00m \u001b[38;5;28;01mimport\u001b[39;00m \u001b[38;5;241m*\u001b[39m\n\u001b[0;32m----> 2\u001b[0m \u001b[43mecho\u001b[49m\u001b[38;5;241m.\u001b[39mecho_test() \u001b[38;5;66;03m# Error : package/__init__.py 파일에 정의된 것만 참조할 수 있기 때문에\u001b[39;00m\n\u001b[1;32m      4\u001b[0m \u001b[38;5;66;03m# package/__init__.py 파일에 __all__ 변수를 설정하고 import할 수 있는 module을 정의해야 한다.\u001b[39;00m\n",
      "\u001b[0;31mNameError\u001b[0m: name 'echo' is not defined"
     ]
    }
   ],
   "source": [
    "from package.sound import *\n",
    "echo.echo_test() # Error : package/__init__.py 파일에 정의된 것만 참조할 수 있기 때문에\n",
    "\n",
    "# package/__init__.py 파일에 __all__ 변수를 설정하고 import할 수 있는 module을 정의해야 한다."
   ]
  },
  {
   "cell_type": "code",
   "execution_count": 1,
   "metadata": {},
   "outputs": [
    {
     "name": "stdout",
     "output_type": "stream",
     "text": [
      "__all__ = ['echo'] # __all__ 변수에 import할 수 있는 module을 정의해줘야 함"
     ]
    }
   ],
   "source": [
    "!cat package/sound/__init__.py"
   ]
  },
  {
   "cell_type": "code",
   "execution_count": 2,
   "metadata": {},
   "outputs": [
    {
     "name": "stdout",
     "output_type": "stream",
     "text": [
      "Initialize package...\n",
      "echo\n"
     ]
    }
   ],
   "source": [
    "from package.sound import *\n",
    "echo.echo_test() # package/sound/__init__.py 파일에 __all__ 변수에 echo module을 정의했기 때문에 이제 정상적으로 실행된다."
   ]
  },
  {
   "cell_type": "markdown",
   "metadata": {},
   "source": [
    "# relative package"
   ]
  },
  {
   "cell_type": "code",
   "execution_count": 1,
   "metadata": {},
   "outputs": [
    {
     "name": "stdout",
     "output_type": "stream",
     "text": [
      "from package.sound.echo import echo_test\n",
      "\n",
      "def render_test() :\n",
      "    print(\"render\")\n",
      "    echo_test()"
     ]
    }
   ],
   "source": [
    "# 만약 graphic/의 render.py module에서 sound/의 echo.py module을 import하고 싶다면?\n",
    "# 다음과 같이 render.py를 수정하면 된다.\n",
    "!cat package/graphic/render.py"
   ]
  },
  {
   "cell_type": "code",
   "execution_count": 2,
   "metadata": {},
   "outputs": [
    {
     "name": "stdout",
     "output_type": "stream",
     "text": [
      "Initialize package...\n",
      "render\n",
      "echo\n"
     ]
    }
   ],
   "source": [
    "from package.graphic.render import render_test\n",
    "\n",
    "render_test()\n",
    "\n",
    "# from.pacage.sound.echo import echo_test를 입력해 전체 경로를 사용하여 import할 수도 있지만\n",
    "# 이처럼 relative하게 import하는 것도 가능하다."
   ]
  },
  {
   "cell_type": "code",
   "execution_count": 3,
   "metadata": {},
   "outputs": [
    {
     "name": "stdout",
     "output_type": "stream",
     "text": [
      "# from package.sound.echo import echo_test # relavtive package를 이용하여 module을 import\n",
      "from ..sound.echo import echo_test # 위와 동일한 코드\n",
      "\n",
      "\n",
      "def render_test() :\n",
      "    print(\"render\")\n",
      "    echo_test()"
     ]
    }
   ],
   "source": [
    "!cat package/graphic/render.py"
   ]
  },
  {
   "cell_type": "code",
   "execution_count": 1,
   "metadata": {},
   "outputs": [
    {
     "name": "stdout",
     "output_type": "stream",
     "text": [
      "Initialize package...\n",
      "render\n",
      "echo\n"
     ]
    }
   ],
   "source": [
    "from package.graphic.render import render_test\n",
    "\n",
    "render_test()\n",
    "\n",
    "# from.pacage.sound.echo import echo_test를 입력해 전체 경로를 사용하여 import할 수도 있지만\n",
    "# 이처럼 relative하게 import하는 것도 가능하다."
   ]
  },
  {
   "cell_type": "code",
   "execution_count": null,
   "metadata": {},
   "outputs": [],
   "source": []
  }
 ],
 "metadata": {
  "kernelspec": {
   "display_name": "base",
   "language": "python",
   "name": "python3"
  },
  "language_info": {
   "codemirror_mode": {
    "name": "ipython",
    "version": 3
   },
   "file_extension": ".py",
   "mimetype": "text/x-python",
   "name": "python",
   "nbconvert_exporter": "python",
   "pygments_lexer": "ipython3",
   "version": "3.11.5"
  }
 },
 "nbformat": 4,
 "nbformat_minor": 2
}
